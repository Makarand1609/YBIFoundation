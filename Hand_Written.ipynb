{
  "nbformat": 4,
  "nbformat_minor": 0,
  "metadata": {
    "colab": {
      "provenance": []
    },
    "kernelspec": {
      "name": "python3",
      "display_name": "Python 3"
    },
    "language_info": {
      "name": "python"
    }
  },
  "cells": [
    {
      "cell_type": "markdown",
      "source": [
        "# **Hand Written Digit Prediction**"
      ],
      "metadata": {
        "id": "dqZ-nhxiganh"
      }
    },
    {
      "cell_type": "markdown",
      "source": [
        "-------------"
      ],
      "metadata": {
        "id": "gScHkw6jjrLo"
      }
    },
    {
      "cell_type": "markdown",
      "source": [
        "## **Import Library**"
      ],
      "metadata": {
        "id": "r7GrZzX0iTlV"
      }
    },
    {
      "cell_type": "code",
      "source": [
        "import pandas as pd\n",
        "import numpy as np\n",
        "import matplotlib.pyplot as plt"
      ],
      "metadata": {
        "id": "UkK6NH9DiW-X"
      },
      "execution_count": 4,
      "outputs": []
    },
    {
      "cell_type": "markdown",
      "source": [
        "## **Import Data**"
      ],
      "metadata": {
        "id": "9lHPQj1XiOUc"
      }
    },
    {
      "cell_type": "code",
      "source": [
        "from sklearn.datasets import load_digits\n",
        "df=load_digits()"
      ],
      "metadata": {
        "id": "zcU1fdnGho6M"
      },
      "execution_count": 2,
      "outputs": []
    },
    {
      "cell_type": "code",
      "source": [
        "_,axes = plt.subplots(nrows=1,ncols=4,figsize=(19,3))\n",
        "for ax,image,label in zip(axes,df.images,df.target):\n",
        "  ax.set_axis_off()\n",
        "  ax.imshow(image,cmap=plt.cm.gray_r,interpolation=\"nearest\")\n",
        "  ax.set_title(\"Traning: %i\"%label)"
      ],
      "metadata": {
        "colab": {
          "base_uri": "https://localhost:8080/",
          "height": 259
        },
        "id": "u5JL2HDxzUUd",
        "outputId": "60c74a4d-53e5-46c1-b904-e516de095338"
      },
      "execution_count": 7,
      "outputs": [
        {
          "output_type": "display_data",
          "data": {
            "text/plain": [
              "<Figure size 1900x300 with 4 Axes>"
            ],
            "image/png": "[encoded data removed]"
          },
          "metadata": {}
        }
      ]
    },
    {
      "cell_type": "markdown",
      "source": [
        "## **Describe Data**"
      ],
      "metadata": {
        "id": "7PUnimBoiX-x"
      }
    },
    {
      "cell_type": "code",
      "source": [
        "df.images.shape"
      ],
      "metadata": {
        "id": "kG15arusiZ8Z",
        "colab": {
          "base_uri": "https://localhost:8080/"
        },
        "outputId": "3c8746f9-4631-40e1-8065-79b425003fc0"
      },
      "execution_count": 8,
      "outputs": [
        {
          "output_type": "execute_result",
          "data": {
            "text/plain": [
              "(1797, 8, 8)"
            ]
          },
          "metadata": {},
          "execution_count": 8
        }
      ]
    },
    {
      "cell_type": "code",
      "source": [
        "df.images[0]"
      ],
      "metadata": {
        "colab": {
          "base_uri": "https://localhost:8080/"
        },
        "id": "x_44EVAO1FE-",
        "outputId": "c1750246-4f7c-4e96-905f-8bd888592ce5"
      },
      "execution_count": 9,
      "outputs": [
        {
          "output_type": "execute_result",
          "data": {
            "text/plain": [
              "array([[ 0.,  0.,  5., 13.,  9.,  1.,  0.,  0.],\n",
              "       [ 0.,  0., 13., 15., 10., 15.,  5.,  0.],\n",
              "       [ 0.,  3., 15.,  2.,  0., 11.,  8.,  0.],\n",
              "       [ 0.,  4., 12.,  0.,  0.,  8.,  8.,  0.],\n",
              "       [ 0.,  5.,  8.,  0.,  0.,  9.,  8.,  0.],\n",
              "       [ 0.,  4., 11.,  0.,  1., 12.,  7.,  0.],\n",
              "       [ 0.,  2., 14.,  5., 10., 12.,  0.,  0.],\n",
              "       [ 0.,  0.,  6., 13., 10.,  0.,  0.,  0.]])"
            ]
          },
          "metadata": {},
          "execution_count": 9
        }
      ]
    },
    {
      "cell_type": "markdown",
      "source": [
        "## **Data Visualization**"
      ],
      "metadata": {
        "id": "oBGX4Ekniriz"
      }
    },
    {
      "cell_type": "code",
      "source": [
        "len(df.images)\n",
        "n_samples=len(df.images)\n",
        "data=df.images.reshape((n_samples,-1))"
      ],
      "metadata": {
        "id": "lW-OIRK0iuzO"
      },
      "execution_count": 10,
      "outputs": []
    },
    {
      "cell_type": "markdown",
      "source": [
        "## **Data Preprocessing**"
      ],
      "metadata": {
        "id": "UqfyPOCYiiww"
      }
    },
    {
      "cell_type": "code",
      "source": [
        "data=data/16"
      ],
      "metadata": {
        "id": "3cyr3fbGin0A"
      },
      "execution_count": 11,
      "outputs": []
    },
    {
      "cell_type": "markdown",
      "source": [
        "## **Define Target Variable (y) and Feature Variables (X)**"
      ],
      "metadata": {
        "id": "2jXJpdAuiwYW"
      }
    },
    {
      "cell_type": "code",
      "source": [],
      "metadata": {
        "id": "QBCakTuli57t"
      },
      "execution_count": null,
      "outputs": []
    },
    {
      "cell_type": "markdown",
      "source": [
        "## **Train Test Split**"
      ],
      "metadata": {
        "id": "90_0q_Pbi658"
      }
    },
    {
      "cell_type": "code",
      "source": [
        "from sklearn.model_selection import train_test_split\n",
        "X_train,X_test,Y_train,Y_test=train_test_split(data,df.target,test_size=0.3)"
      ],
      "metadata": {
        "id": "u60YYaOFi-Dw"
      },
      "execution_count": 13,
      "outputs": []
    },
    {
      "cell_type": "markdown",
      "source": [
        "## **Modeling**"
      ],
      "metadata": {
        "id": "cIhyseNria7W"
      }
    },
    {
      "cell_type": "code",
      "source": [
        "from sklearn.ensemble import RandomForestClassifier\n",
        "rf=RandomForestClassifier()"
      ],
      "metadata": {
        "id": "Toq58wpkjCw7"
      },
      "execution_count": 15,
      "outputs": []
    },
    {
      "cell_type": "markdown",
      "source": [
        "## **Model Evaluation**"
      ],
      "metadata": {
        "id": "vhAwWfG0jFun"
      }
    },
    {
      "cell_type": "code",
      "source": [
        "rf.fit(X_train,Y_train)"
      ],
      "metadata": {
        "id": "lND3jJj_jhx4",
        "colab": {
          "base_uri": "https://localhost:8080/",
          "height": 75
        },
        "outputId": "baeadc59-bf6e-4143-a288-ad8aed8b780c"
      },
      "execution_count": 17,
      "outputs": [
        {
          "output_type": "execute_result",
          "data": {
            "text/plain": [
              "RandomForestClassifier()"
            ],
            "text/html": [
              "<style>#sk-container-id-1 {color: black;background-color: white;}#sk-container-id-1 pre{padding: 0;}#sk-container-id-1 div.sk-toggleable {background-color: white;}#sk-container-id-1 label.sk-toggleable__label {cursor: pointer;display: block;width: 100%;margin-bottom: 0;padding: 0.3em;box-sizing: border-box;text-align: center;}#sk-container-id-1 label.sk-toggleable__label-arrow:before {content: \"▸\";float: left;margin-right: 0.25em;color: #696969;}#sk-container-id-1 label.sk-toggleable__label-arrow:hover:before {color: black;}#sk-container-id-1 div.sk-estimator:hover label.sk-toggleable__label-arrow:before {color: black;}#sk-container-id-1 div.sk-toggleable__content {max-height: 0;max-width: 0;overflow: hidden;text-align: left;background-color: #f0f8ff;}#sk-container-id-1 div.sk-toggleable__content pre {margin: 0.2em;color: black;border-radius: 0.25em;background-color: #f0f8ff;}#sk-container-id-1 input.sk-toggleable__control:checked~div.sk-toggleable__content {max-height: 200px;max-width: 100%;overflow: auto;}#sk-container-id-1 input.sk-toggleable__control:checked~label.sk-toggleable__label-arrow:before {content: \"▾\";}#sk-container-id-1 div.sk-estimator input.sk-toggleable__control:checked~label.sk-toggleable__label {background-color: #d4ebff;}#sk-container-id-1 div.sk-label input.sk-toggleable__control:checked~label.sk-toggleable__label {background-color: #d4ebff;}#sk-container-id-1 input.sk-hidden--visually {border: 0;clip: rect(1px 1px 1px 1px);clip: rect(1px, 1px, 1px, 1px);height: 1px;margin: -1px;overflow: hidden;padding: 0;position: absolute;width: 1px;}#sk-container-id-1 div.sk-estimator {font-family: monospace;background-color: #f0f8ff;border: 1px dotted black;border-radius: 0.25em;box-sizing: border-box;margin-bottom: 0.5em;}#sk-container-id-1 div.sk-estimator:hover {background-color: #d4ebff;}#sk-container-id-1 div.sk-parallel-item::after {content: \"\";width: 100%;border-bottom: 1px solid gray;flex-grow: 1;}#sk-container-id-1 div.sk-label:hover label.sk-toggleable__label {background-color: #d4ebff;}#sk-container-id-1 div.sk-serial::before {content: \"\";position: absolute;border-left: 1px solid gray;box-sizing: border-box;top: 0;bottom: 0;left: 50%;z-index: 0;}#sk-container-id-1 div.sk-serial {display: flex;flex-direction: column;align-items: center;background-color: white;padding-right: 0.2em;padding-left: 0.2em;position: relative;}#sk-container-id-1 div.sk-item {position: relative;z-index: 1;}#sk-container-id-1 div.sk-parallel {display: flex;align-items: stretch;justify-content: center;background-color: white;position: relative;}#sk-container-id-1 div.sk-item::before, #sk-container-id-1 div.sk-parallel-item::before {content: \"\";position: absolute;border-left: 1px solid gray;box-sizing: border-box;top: 0;bottom: 0;left: 50%;z-index: -1;}#sk-container-id-1 div.sk-parallel-item {display: flex;flex-direction: column;z-index: 1;position: relative;background-color: white;}#sk-container-id-1 div.sk-parallel-item:first-child::after {align-self: flex-end;width: 50%;}#sk-container-id-1 div.sk-parallel-item:last-child::after {align-self: flex-start;width: 50%;}#sk-container-id-1 div.sk-parallel-item:only-child::after {width: 0;}#sk-container-id-1 div.sk-dashed-wrapped {border: 1px dashed gray;margin: 0 0.4em 0.5em 0.4em;box-sizing: border-box;padding-bottom: 0.4em;background-color: white;}#sk-container-id-1 div.sk-label label {font-family: monospace;font-weight: bold;display: inline-block;line-height: 1.2em;}#sk-container-id-1 div.sk-label-container {text-align: center;}#sk-container-id-1 div.sk-container {/* jupyter's `normalize.less` sets `[hidden] { display: none; }` but bootstrap.min.css set `[hidden] { display: none !important; }` so we also need the `!important` here to be able to override the default hidden behavior on the sphinx rendered scikit-learn.org. See: https://github.com/scikit-learn/scikit-learn/issues/21755 */display: inline-block !important;position: relative;}#sk-container-id-1 div.sk-text-repr-fallback {display: none;}</style><div id=\"sk-container-id-1\" class=\"sk-top-container\"><div class=\"sk-text-repr-fallback\"><pre>RandomForestClassifier()</pre><b>In a Jupyter environment, please rerun this cell to show the HTML representation or trust the notebook. <br />On GitHub, the HTML representation is unable to render, please try loading this page with nbviewer.org.</b></div><div class=\"sk-container\" hidden><div class=\"sk-item\"><div class=\"sk-estimator sk-toggleable\"><input class=\"sk-toggleable__control sk-hidden--visually\" id=\"sk-estimator-id-1\" type=\"checkbox\" checked><label for=\"sk-estimator-id-1\" class=\"sk-toggleable__label sk-toggleable__label-arrow\">RandomForestClassifier</label><div class=\"sk-toggleable__content\"><pre>RandomForestClassifier()</pre></div></div></div></div></div>"
            ]
          },
          "metadata": {},
          "execution_count": 17
        }
      ]
    },
    {
      "cell_type": "markdown",
      "source": [
        "## **Prediction**"
      ],
      "metadata": {
        "id": "8AzwG7oLjiQI"
      }
    },
    {
      "cell_type": "code",
      "source": [
        "y_pred=rf.predict(X_test)\n",
        "y_pred"
      ],
      "metadata": {
        "id": "JLebGzDJjknA",
        "colab": {
          "base_uri": "https://localhost:8080/"
        },
        "outputId": "84271893-0b34-4b99-979e-12181bf7da12"
      },
      "execution_count": 19,
      "outputs": [
        {
          "output_type": "execute_result",
          "data": {
            "text/plain": [
              "array([2, 1, 4, 3, 9, 9, 4, 0, 5, 1, 5, 0, 4, 8, 5, 1, 5, 8, 3, 3, 1, 3,\n",
              "       7, 1, 5, 5, 3, 5, 9, 4, 6, 9, 6, 7, 3, 7, 6, 5, 7, 1, 3, 4, 4, 7,\n",
              "       1, 2, 7, 2, 6, 3, 4, 7, 5, 5, 8, 3, 1, 6, 7, 7, 1, 0, 8, 1, 5, 7,\n",
              "       1, 6, 4, 6, 4, 1, 3, 4, 1, 1, 5, 2, 3, 1, 4, 0, 0, 6, 7, 5, 5, 9,\n",
              "       5, 1, 9, 9, 5, 8, 4, 6, 2, 6, 6, 2, 3, 1, 8, 4, 6, 9, 1, 0, 8, 4,\n",
              "       3, 4, 3, 0, 1, 6, 8, 6, 8, 9, 0, 3, 2, 6, 7, 9, 8, 3, 3, 6, 4, 5,\n",
              "       8, 1, 6, 9, 7, 7, 9, 7, 5, 6, 4, 5, 1, 8, 0, 8, 4, 2, 5, 9, 7, 1,\n",
              "       8, 0, 5, 9, 5, 6, 0, 9, 2, 3, 1, 7, 1, 1, 5, 1, 5, 9, 3, 9, 1, 3,\n",
              "       0, 5, 0, 5, 1, 0, 9, 2, 4, 3, 6, 8, 3, 6, 0, 2, 5, 5, 9, 7, 4, 9,\n",
              "       0, 8, 9, 8, 7, 4, 8, 0, 6, 9, 6, 7, 1, 9, 2, 8, 2, 7, 3, 6, 0, 6,\n",
              "       3, 3, 5, 6, 9, 3, 8, 8, 9, 8, 1, 0, 7, 0, 5, 7, 8, 1, 2, 1, 1, 4,\n",
              "       9, 0, 0, 0, 9, 9, 2, 1, 4, 9, 7, 9, 4, 0, 2, 6, 1, 2, 9, 2, 5, 2,\n",
              "       8, 2, 7, 2, 1, 8, 9, 1, 1, 6, 0, 0, 4, 6, 3, 3, 2, 4, 8, 8, 0, 1,\n",
              "       7, 3, 9, 3, 4, 0, 8, 0, 4, 5, 4, 0, 6, 0, 0, 2, 2, 1, 0, 2, 2, 0,\n",
              "       5, 5, 1, 1, 5, 2, 3, 9, 7, 4, 1, 3, 4, 6, 8, 9, 5, 0, 8, 9, 8, 8,\n",
              "       7, 5, 7, 0, 5, 5, 9, 5, 6, 2, 9, 6, 8, 7, 5, 1, 7, 0, 5, 1, 1, 3,\n",
              "       9, 3, 3, 7, 2, 6, 7, 5, 1, 7, 9, 8, 4, 2, 3, 1, 4, 1, 3, 1, 0, 3,\n",
              "       5, 2, 7, 6, 6, 6, 3, 6, 2, 6, 9, 1, 4, 0, 6, 3, 4, 0, 7, 2, 0, 0,\n",
              "       8, 2, 3, 6, 7, 6, 7, 4, 7, 5, 2, 1, 6, 3, 5, 6, 3, 2, 8, 8, 1, 0,\n",
              "       5, 9, 8, 6, 5, 6, 5, 1, 0, 0, 5, 6, 4, 7, 6, 2, 7, 6, 3, 1, 1, 3,\n",
              "       3, 6, 5, 7, 8, 3, 7, 5, 0, 5, 5, 4, 0, 1, 8, 5, 7, 4, 7, 3, 7, 2,\n",
              "       2, 0, 4, 2, 2, 9, 0, 6, 4, 8, 3, 8, 3, 7, 8, 3, 2, 0, 1, 9, 4, 1,\n",
              "       4, 9, 6, 5, 6, 7, 2, 7, 7, 9, 1, 3, 4, 6, 9, 6, 9, 7, 8, 5, 2, 5,\n",
              "       6, 3, 9, 1, 7, 7, 3, 5, 8, 3, 4, 3, 6, 7, 8, 0, 2, 7, 5, 8, 1, 5,\n",
              "       7, 6, 7, 5, 6, 0, 9, 5, 2, 1, 4, 2])"
            ]
          },
          "metadata": {},
          "execution_count": 19
        }
      ]
    },
    {
      "cell_type": "code",
      "source": [
        "from sklearn.metrics import *\n",
        "confusion_matrix(Y_test,y_pred)\n"
      ],
      "metadata": {
        "colab": {
          "base_uri": "https://localhost:8080/"
        },
        "id": "gZSLMgl03W5t",
        "outputId": "d757c975-5cf1-49c2-87fc-5d69ed3bfc68"
      },
      "execution_count": 22,
      "outputs": [
        {
          "output_type": "execute_result",
          "data": {
            "text/plain": [
              "array([[51,  0,  0,  0,  0,  0,  0,  0,  0,  0],\n",
              "       [ 0, 59,  0,  0,  0,  0,  0,  0,  0,  0],\n",
              "       [ 0,  0, 47,  0,  0,  0,  0,  0,  0,  0],\n",
              "       [ 0,  0,  0, 53,  0,  0,  0,  0,  0,  0],\n",
              "       [ 0,  0,  0,  0, 45,  0,  0,  0,  0,  1],\n",
              "       [ 0,  0,  0,  0,  1, 60,  0,  0,  0,  1],\n",
              "       [ 1,  1,  0,  0,  0,  0, 59,  0,  0,  0],\n",
              "       [ 0,  0,  0,  0,  0,  0,  0, 57,  1,  0],\n",
              "       [ 0,  3,  0,  0,  0,  1,  0,  0, 44,  0],\n",
              "       [ 0,  0,  0,  3,  0,  2,  0,  0,  2, 48]])"
            ]
          },
          "metadata": {},
          "execution_count": 22
        }
      ]
    },
    {
      "cell_type": "code",
      "source": [
        "print(classification_report(Y_test,y_pred))"
      ],
      "metadata": {
        "colab": {
          "base_uri": "https://localhost:8080/"
        },
        "id": "qekl51Is31cn",
        "outputId": "05313ee0-89d2-403a-c952-c76dc1f26c65"
      },
      "execution_count": 24,
      "outputs": [
        {
          "output_type": "stream",
          "name": "stdout",
          "text": [
            "              precision    recall  f1-score   support\n",
            "\n",
            "           0       0.98      1.00      0.99        51\n",
            "           1       0.94      1.00      0.97        59\n",
            "           2       1.00      1.00      1.00        47\n",
            "           3       0.95      1.00      0.97        53\n",
            "           4       0.98      0.98      0.98        46\n",
            "           5       0.95      0.97      0.96        62\n",
            "           6       1.00      0.97      0.98        61\n",
            "           7       1.00      0.98      0.99        58\n",
            "           8       0.94      0.92      0.93        48\n",
            "           9       0.96      0.87      0.91        55\n",
            "\n",
            "    accuracy                           0.97       540\n",
            "   macro avg       0.97      0.97      0.97       540\n",
            "weighted avg       0.97      0.97      0.97       540\n",
            "\n"
          ]
        }
      ]
    },
    {
      "cell_type": "markdown",
      "source": [
        "## **Explaination**"
      ],
      "metadata": {
        "id": "SBo38CJZjlEX"
      }
    },
    {
      "cell_type": "code",
      "source": [],
      "metadata": {
        "id": "1g4AkZ8c3UrI"
      },
      "execution_count": null,
      "outputs": []
    },
    {
      "cell_type": "markdown",
      "source": [],
      "metadata": {
        "id": "Ybi8FR9Kjv00"
      }
    }
  ]
}